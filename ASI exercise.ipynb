{
 "cells": [
  {
   "cell_type": "markdown",
   "metadata": {},
   "source": [
    "# <center>Advanced Statistic Inference - Assessed Exercise 2016/2017</center>\n",
    "### <center> Wentai CHEN</center>\n",
    "### 1. Download the MNIST and CIFAR10 datasets and import them. "
   ]
  },
  {
   "cell_type": "code",
   "execution_count": 115,
   "metadata": {
    "collapsed": false
   },
   "outputs": [
    {
     "name": "stdout",
     "output_type": "stream",
     "text": [
      "Successfully downloaded train-images-idx3-ubyte.gz\n",
      "Successfully downloaded train-labels-idx1-ubyte.gz\n",
      "Successfully downloaded t10k-images-idx3-ubyte.gz\n",
      "Successfully downloaded t10k-labels-idx1-ubyte.gz\n",
      "Extracting data\\train-images-idx3-ubyte.gz\n",
      "SUCCESS!\n",
      "Extracting data\\train-labels-idx1-ubyte.gz\n",
      "SUCCESS!\n",
      "Extracting data\\t10k-images-idx3-ubyte.gz\n",
      "SUCCESS!\n",
      "Extracting data\\t10k-labels-idx1-ubyte.gz\n",
      "SUCCESS!\n"
     ]
    }
   ],
   "source": [
    "'''download and read themnist file'''\n",
    "import gzip\n",
    "import os\n",
    "import numpy as np\n",
    "from six.moves import urllib\n",
    "SOURCE_URL = 'http://yann.lecun.com/exdb/mnist/'\n",
    "DATA_DIRECTORY = 'data'\n",
    "IMAGE_SIZE = 28\n",
    "def download(filename):\n",
    "    filepath = os.path.join(DATA_DIRECTORY, filename)\n",
    "    filepath, _ = urllib.request.urlretrieve(SOURCE_URL + filename, filepath)\n",
    "    print('Successfully downloaded', filename)\n",
    "    return filepath\n",
    "def extract_data(filename, num_images):\n",
    "    print('Extracting', filename)\n",
    "    with gzip.open(filename) as bytestream:\n",
    "        bytestream.read(16)\n",
    "        buf = bytestream.read(IMAGE_SIZE * IMAGE_SIZE * num_images)\n",
    "        data = np.frombuffer(buf, dtype=np.uint8).astype(np.float32)\n",
    "        data = data.reshape(num_images, IMAGE_SIZE, IMAGE_SIZE, 1)\n",
    "    print(\"SUCCESS!\")\n",
    "    return data\n",
    "def extract_labels(filename,num_labels):\n",
    "    print(\"Extracting\",filename)\n",
    "    with gzip.open(filename) as bytestream:\n",
    "        bytestream.read(8)\n",
    "        buf = bytestream.read(num_labels)\n",
    "        labels = np.frombuffer(buf,dtype = np.uint8).astype(np.int64)\n",
    "    print(\"SUCCESS!\")\n",
    "    return labels\n",
    "train_data_filename = download('train-images-idx3-ubyte.gz')\n",
    "train_labels_filename = download('train-labels-idx1-ubyte.gz')\n",
    "test_data_filename = download('t10k-images-idx3-ubyte.gz')\n",
    "test_labels_filename = download('t10k-labels-idx1-ubyte.gz')\n",
    "train_data = extract_data(train_data_filename,60000)\n",
    "train_labels = extract_labels(train_labels_filename, 60000)\n",
    "test_data = extract_data(test_data_filename,10000)\n",
    "test_labels = extract_labels(test_labels_filename, 10000)"
   ]
  },
  {
   "cell_type": "code",
   "execution_count": 116,
   "metadata": {
    "collapsed": false
   },
   "outputs": [
    {
     "name": "stdout",
     "output_type": "stream",
     "text": [
      "Extracting data/train-images-idx3-ubyte.gz\n",
      "SUCCESS!\n",
      "Extracting data/train-labels-idx1-ubyte.gz\n",
      "SUCCESS!\n",
      "Extracting data/t10k-images-idx3-ubyte.gz\n",
      "SUCCESS!\n",
      "Extracting data/t10k-labels-idx1-ubyte.gz\n",
      "SUCCESS!\n"
     ]
    }
   ],
   "source": [
    "'''This is a quick extract cell to extract the variable based the already-downloaded file'''\n",
    "import gzip\n",
    "import numpy as np\n",
    "IMAGE_SIZE = 28\n",
    "def extract_data(filename, num_images):\n",
    "    \"\"\"Extract the images into a 4-dimensional numpy array [image index, y, x, channels].\n",
    "    Values are rescaled from [0, 255] down to [-0.5, 0.5].\n",
    "    \"\"\"\n",
    "    print('Extracting', filename)\n",
    "    with gzip.open(filename) as bytestream:\n",
    "        bytestream.read(16)\n",
    "        buf = bytestream.read(IMAGE_SIZE * IMAGE_SIZE * num_images)\n",
    "        data = np.frombuffer(buf, dtype=np.uint8).astype(np.float32)\n",
    "        data = data.reshape(num_images, IMAGE_SIZE, IMAGE_SIZE, 1)\n",
    "    print(\"SUCCESS!\")\n",
    "    return data\n",
    "\n",
    "def extract_labels(filename,num_labels):\n",
    "    \"\"\"Extract the labels to a vector of int64 label IDs\"\"\"\n",
    "    print(\"Extracting\",filename)\n",
    "    with gzip.open(filename) as bytestream:\n",
    "        bytestream.read(8)\n",
    "        buf = bytestream.read(num_labels)\n",
    "        labels = np.frombuffer(buf,dtype = np.uint8).astype(np.int64)\n",
    "    print(\"SUCCESS!\")\n",
    "    return labels\n",
    "train_data = extract_data('data/train-images-idx3-ubyte.gz',60000)\n",
    "\n",
    "train_labels = extract_labels('data/train-labels-idx1-ubyte.gz', 60000)\n",
    "\n",
    "test_data = extract_data('data/t10k-images-idx3-ubyte.gz',10000)\n",
    "\n",
    "test_labels = extract_labels('data/t10k-labels-idx1-ubyte.gz', 10000)"
   ]
  },
  {
   "cell_type": "code",
   "execution_count": 117,
   "metadata": {
    "collapsed": true
   },
   "outputs": [],
   "source": [
    "'''Load the CIFAR 10 dataset'''\n",
    "#library import, macro define\n",
    "import os\n",
    "data_path = 'data/'\n",
    "filename = ''\n",
    "def unpickle(filename):\n",
    "    import pickle\n",
    "    file_path = os.path.join(data_path, \"cifar-10-batches-py/\", filename)    \n",
    "    with open(file_path, 'rb') as fo:\n",
    "        dict = pickle.load(fo, encoding='bytes')\n",
    "    return dict\n",
    "data_batch_1 = unpickle('data_batch_1')\n",
    "data_batch_2 = unpickle('data_batch_2')\n",
    "data_batch_3 = unpickle('data_batch_3')\n",
    "data_batch_4 = unpickle('data_batch_4')\n",
    "data_batch_5 = unpickle('data_batch_5')\n",
    "test_batch = unpickle('test_batch')\n",
    "batch_names = unpickle('batches.meta')"
   ]
  },
  {
   "cell_type": "markdown",
   "metadata": {
    "collapsed": true
   },
   "source": [
    "## 2. The distribution of class labels and the dimensionality of the input and how these may affect the analysis. \n",
    "\n",
    "### 2.1 MNIST data set\n",
    "  \n",
    "The dataset is divided into training set(60,000 samples) and test set(10,000 samples), and each data point is noted as images and labels separately. The shape of one single input data point is (28,28,1), in which 28 and 28 mean that the size of one single image is 28 * 28, and the last 1-dimension value indicates the grey value of the picture.  \n",
    "  \n",
    "In order to observe the distribution of the train data, the number of the labels is ploted as below\n",
    "\n",
    "\n",
    "\n"
   ]
  },
  {
   "cell_type": "code",
   "execution_count": 118,
   "metadata": {
    "collapsed": false,
    "scrolled": false
   },
   "outputs": [
    {
     "data": {
      "image/png": "[encoded data removed]",
      "text/plain": [
       "<matplotlib.figure.Figure at 0x1b3dc9539e8>"
      ]
     },
     "metadata": {},
     "output_type": "display_data"
    },
    {
     "data": {
      "image/png": "[encoded data removed]",
      "text/plain": [
       "<matplotlib.figure.Figure at 0x1b38083c898>"
      ]
     },
     "metadata": {},
     "output_type": "display_data"
    }
   ],
   "source": [
    "%matplotlib inline\n",
    "import matplotlib.pyplot as plt\n",
    "import operator\n",
    "from itertools import groupby\n",
    "#groupby the labels and count the total number of each label\n",
    "sorted_train_labels = sorted(train_labels)\n",
    "groups = ((k,sum(1 for i in g)) for k,g in groupby(sorted_train_labels))\n",
    "index = np.fromiter(groups,dtype='u4,u2')\n",
    "distr = [v for (k,v) in index]\n",
    "\n",
    "#plot the data\n",
    "plt.figure(figsize = (8,5))\n",
    "plt.plot(distr)\n",
    "plt.xticks(range(0,10,1))\n",
    "plt.xlabel('labels',fontsize = 15)\n",
    "plt.ylabel('counts',fontsize = 15)\n",
    "plt.title('number of labels distribution in train data')\n",
    "plt.show()\n",
    "\n",
    "labels = range(10)\n",
    "fig1, ax1 = plt.subplots()\n",
    "ax1.pie(distr, labels=labels, autopct='%1.1f%%',\n",
    "        shadow=True, startangle=90)\n",
    "ax1.axis('equal')\n",
    "plt.title('proportion of each digit label in training data')\n",
    "plt.show()"
   ]
  },
  {
   "cell_type": "markdown",
   "metadata": {},
   "source": [
    "In the two figures above, we observe that the distribution of the training labels are nearly uniform, and each label counts for around 10% of the total sample. "
   ]
  },
  {
   "cell_type": "markdown",
   "metadata": {},
   "source": [
    "### 2.2 CIFAR 10 dataset  \n",
    "The CIFAR-10 dataset consists of 60000 32x32 colour images in 10 classes, with 6000 images per class. There are 50000 training images and 10000 test images.  \n",
    "The dataset is divided into five training batches and one test batch, each with 10000 images. The test batch contains exactly 1000 randomly-selected images from each class. The training batches contain the remaining images in random order, but some training batches may contain more images from one class than another. Between them, the training batches contain exactly 5000 images from each class.  \n",
    "Each of the batch files contains a dictionary with the following elements:\n",
    "data -- a 10000x3072 numpy array of uint8s. Each row of the array stores a 32x32 colour image. The first 1024 entries contain the red channel values, the next 1024 the green, and the final 1024 the blue. The image is stored in row-major order, so that the first 32 entries of the array are the red channel values of the first row of the image.\n",
    "labels -- a list of 10000 numbers in the range 0-9. The number at index i indicates the label of the ith image in the array data.  \n",
    "more detailed description please refers to https://www.cs.toronto.edu/~kriz/cifar.html"
   ]
  },
  {
   "cell_type": "code",
   "execution_count": 119,
   "metadata": {
    "collapsed": false
   },
   "outputs": [
    {
     "data": {
      "text/plain": [
       "dict_keys([b'batch_label', b'labels', b'data', b'filenames'])"
      ]
     },
     "execution_count": 119,
     "metadata": {},
     "output_type": "execute_result"
    }
   ],
   "source": [
    "#List the names of the keys of the dictionary\n",
    "data_batch_1.keys()"
   ]
  },
  {
   "cell_type": "code",
   "execution_count": 120,
   "metadata": {
    "collapsed": false
   },
   "outputs": [
    {
     "name": "stdout",
     "output_type": "stream",
     "text": [
      "batch label: b'training batch 1 of 5'\n",
      "data labels: [6, 9, 9, 4, 1, 1, 2, 7, 8, 3]\n",
      "data: [ 59  43  50 ..., 140  84  72]\n",
      "filenames: [b'leptodactylus_pentadactylus_s_000004.png', b'camion_s_000148.png', b'tipper_truck_s_001250.png', b'american_elk_s_001521.png', b'station_wagon_s_000293.png', b'coupe_s_001735.png', b'cassowary_s_001300.png', b'cow_pony_s_001168.png', b'sea_boat_s_001584.png', b'tabby_s_001355.png']\n",
      "batch names: {b'num_cases_per_batch': 10000, b'label_names': [b'airplane', b'automobile', b'bird', b'cat', b'deer', b'dog', b'frog', b'horse', b'ship', b'truck'], b'num_vis': 3072}\n"
     ]
    }
   ],
   "source": [
    "#print the content of each value corresponding to each key\n",
    "print(\"batch label:\",data_batch_1[b'batch_label'])\n",
    "print('data labels:',data_batch_1[b'labels'][0:10])\n",
    "print('data:',data_batch_1[b'data'][0])\n",
    "print('filenames:',data_batch_1[b'filenames'][0:10])\n",
    "print('batch names:',batch_names)"
   ]
  },
  {
   "cell_type": "code",
   "execution_count": 121,
   "metadata": {
    "collapsed": false,
    "scrolled": false
   },
   "outputs": [
    {
     "data": {
      "image/png": "[encoded data removed]",
      "text/plain": [
       "<matplotlib.figure.Figure at 0x1b380730a90>"
      ]
     },
     "metadata": {},
     "output_type": "display_data"
    },
    {
     "data": {
      "image/png": "[encoded data removed]",
      "text/plain": [
       "<matplotlib.figure.Figure at 0x1b380baaf28>"
      ]
     },
     "metadata": {},
     "output_type": "display_data"
    },
    {
     "data": {
      "image/png": "[encoded data removed]",
      "text/plain": [
       "<matplotlib.figure.Figure at 0x1b380b89710>"
      ]
     },
     "metadata": {},
     "output_type": "display_data"
    }
   ],
   "source": [
    "#proportion of data batch 1\n",
    "sorted_train_labels = sorted(data_batch_1[b'labels'])\n",
    "groups = ((k,sum(1 for i in g)) for k,g in groupby(sorted_train_labels))\n",
    "index = np.fromiter(groups,dtype='u4,u2')\n",
    "distr = [v for (k,v) in index]\n",
    "labels = range(10)\n",
    "plt.pie(distr,labels=labels, autopct='%1.1f%%', shadow=True, startangle=90)\n",
    "plt.title('proportion in data batch 1')\n",
    "plt.show()\n",
    "\n",
    "#proportion of data batch 4\n",
    "sorted_train_labels = sorted(data_batch_4[b'labels'])\n",
    "groups = ((k,sum(1 for i in g)) for k,g in groupby(sorted_train_labels))\n",
    "index = np.fromiter(groups,dtype='u4,u2')\n",
    "distr = [v for (k,v) in index]\n",
    "\n",
    "labels = range(10)\n",
    "\n",
    "plt.pie(distr,labels=labels, autopct='%1.1f%%', shadow=True, startangle=90)\n",
    "plt.title('proportion in data batch 4')\n",
    "plt.show()\n",
    "\n",
    "#proportion of test batch\n",
    "sorted_train_labels = sorted(test_batch[b'labels'])\n",
    "groups = ((k,sum(1 for i in g)) for k,g in groupby(sorted_train_labels))\n",
    "index = np.fromiter(groups,dtype='u4,u2')\n",
    "distr = [v for (k,v) in index]\n",
    "\n",
    "labels = range(10)\n",
    "\n",
    "plt.pie(distr,labels=labels, autopct='%1.1f%%', shadow=True, startangle=90)\n",
    "plt.title('proportion in test batch')\n",
    "plt.show()"
   ]
  },
  {
   "cell_type": "markdown",
   "metadata": {},
   "source": [
    "As the pie charts show above, the distribution of data in training set is not exactly uniform, but with some slight differnence. Whereas in the test set the distribution is strictly uniform, which accords with the description before.  \n",
    "### 2.3 How the data's distribution will affect the analysis  \n",
    "If the data are uniformly distributed, the classifier will learn through a general dataset, which can avoid overfitting to the training data. Otherwise, the training data is a kind of outlier, so classifier will fit into the training set and won't be able to generate well on other dataset, aka over fitting problem."
   ]
  },
  {
   "cell_type": "markdown",
   "metadata": {},
   "source": [
    "## 3. Classification\n",
    "In this section, we will implement the Naïve Bayes classifier, and apply it to the two datasets and do the optimization.\n",
    "### 3.1 Naïve Bayes classifier"
   ]
  },
  {
   "cell_type": "markdown",
   "metadata": {
    "collapsed": true
   },
   "source": [
    "#### 3.1.1. Introduction\n",
    "In machine learninig, Naïve Bayes classifiers are a falmily of simple probabilistic classifiers based on applying Bayes' theorem with strong independence assumptions between the features.  \n",
    "  \n",
    "  \n",
    "Naïve Bayes classifiers are highly scalable, requiring a number of parameters **linear** in the number of variables in a learning problem. Also, Maximum-likelihood training can be done by evaluating a closed-form expression, which takes **linear time**, compared with expensive **iterative approximation** in other types of classifiers.\n",
    "  \n",
    "  \n",
    "#### 3.1.2.Prerequisite\n",
    "**a)** Models that assign class labels to problem instances. These instances are represented as vectors of feature values and the class labels are drawn from some finite set.\n",
    "  \n",
    "**b)** The value of a particular feature is **independent** of the value of any other feature.\n",
    "  \n",
    "  \n",
    "#### 3.1.3 Probabilistic model & Decision rule\n",
    "Given a problem instance to be classified, represented by a vector **x** = (x<sub>1</sub>,...,x<sub>n</sub>) indicating some n features (independent variables), it assigns to this instance probabilities  P(C<sub>k</sub>|x<sub>1</sub>,...,x<sub>n</sub>) = P(C<sub>k</sub>|**x**)\n",
    "for each of k possible outcomes or classes **C**<sub>k</sub>  \n",
    "  \n",
    "According to the idea of Naïve Bayes Classifiers, after computing P(C<sub>1</sub>|**x**),...,P(C<sub>K</sub>|**x**), we find P(C<sub>m</sub>|**x**) = max{P(C<sub>1</sub>|**x**),P(C<sub>2</sub>|**x**),...,P(C<sub>K</sub>|**x**)}, so **x** is classified to class ```m```\n",
    "  \n",
    "#### 3.1.4 Implementation\n",
    "When computing the probabilistic model above, if the number of features ```n``` is large or if a feature can take on a largen number of values, then basing such a model on probability tables is infeasible. Therefore we reformulate model to make it more tractable, using Bayes' theorem\n",
    "  \n",
    "According to Bayes conditional probability formula and the strong independence assumption: \n",
    "$$P(C_i|{\\bf{x}}) = {\\frac {P(\\bf{x}|C_i)*P(C_i)} {P(\\bf{x})} } ∝ P({\\bf{x}}| C_i) * P(C_i) = P(C_i)*\\prod_{j=1}^n {P(x_j|C_i)} \\tag{3.1}$$\n",
    "\n",
    "\n",
    "So, the whole Naïve Bayes Classifiers can be divided into 3 stages:  \n",
    "##### 1)Preparation of the data  \n",
    "Divide the data to trainging and test set, determine the features x<sub>1</sub>,...,x<sub>n</sub> to represent the data.  \n",
    "**Input**: all the data to be classified;  \n",
    "**Output**:traniging set and features\n",
    "  \n",
    "##### 2)Train the classifiers  \n",
    "Generate the classifer by calculating the probabilities listed above.  \n",
    "**Input**: features and training samples  \n",
    "**output**：classifiers\n",
    "  \n",
    "##### 3)Application  \n",
    "Apply the classifier on the dataset.  \n",
    "**Input**: classifiers and data to be classified  \n",
    "**output**: the relationship between data and the corresponding classes."
   ]
  },
  {
   "cell_type": "markdown",
   "metadata": {},
   "source": [
    "### 3.2 Describe a positive and a negative feature of the classifier for these tasks \n",
    "- **Positive feature** \n",
    "In spite of their apparently over-simplified assumptions, Naïve Bayes Classifiers have some good features and worked quite well in many real-world situations.  \n",
    "**1.Simplicity in the dataset**  \n",
    "They require a small amount of training data to estimate the necessary parameters.  \n",
    "**2.Fast in computation**  \n",
    "Naïve Bayes learners and classifiers can be extremely fast compared to more sophisticated methods. Thanks to the assumption of the strong indenpendence on the features, the calculation of conditional probability can be solved by decoupling the conditional feature, then it can be converted to the sum of logarithm. This in turn helps to alleviate problems stemming from the curse of dimensionality.\n",
    "  \n",
    "- **Negative feature**\n",
    "Although Naïve Bayes Classifiers is a simple and decent classifier in some certain cases, it is a bad estimator in general.  \n",
    "**1.Low accuracy  **  \n",
    "Naïve Bayes Classifiers makes a very strong assumption on the shape of the data distribution, i.e. any two features are independent given the output class. In our case, the data set is the pixels in one image, so it os  resonable to see that those pixels are correlated with each other, so using Naïve Bayes Classifiers on MNIST data and CIFAR 10 data is not proper. And the more complex the correlation is, the worse the reslut is. We can see that with simple MNIST hand written digital data we got a 84% accuracy(see the result below), but with a RGB image in CIFAR10, the accuracy is only around 29%.  \n",
    "**2.Numerical instabilities **  \n",
    "In Naïve Bayes method, the likelihood is estimated in a frequentist approach, i.e. by multiplying the posterior(s) and the prior. This can result in probabilities going towards 0 or 1, which in turn leads to numerical instabilities and worse results.In this case a smooth in the data is necessary. In the code below, we convert the probability from [0,1] to a integer, and implement the multiplication.  \n",
    "\n",
    "\n",
    "\n"
   ]
  },
  {
   "cell_type": "markdown",
   "metadata": {},
   "source": [
    "### 3.3 Describe any data pre-processing that you suggest for this data and your classifier  \n",
    "#### 3.2.1 MNIST data  \n",
    "The loaded data formats are:  \n",
    "```\n",
    "trainging_data:      60,000*28*28*1  \n",
    "trainging_labels:    60,000*1  \n",
    "test_data:           10,000*28*28*1  \n",
    "test_labels:         10,000*1 \n",
    "```  \n",
    "The preprocessing includes 2 parts:  \n",
    "**1. Reshape  **\n",
    "The data point is reshaped from `(28*28*1)` to `(28*28)`, which is necessary to feed in the calculation part.  \n",
    "**2. Binarization.  **\n",
    "The value of pixel is binarized, so that the gray scale value ranging from [0,255] is converted to one binary number 0/1. This reduces both the compution and the storage cost.  \n",
    "#### 3.2.2 CIFAR 10 data   \n",
    "The loaded data formats(**data_batch_1**) are:  \n",
    "```\n",
    "batch label: string\n",
    "data labels: 10000\n",
    "data: 10000 * 3072\n",
    "filenames: 10000\n",
    "batch names: dictionary,stored the standard name of each picture.\n",
    "```    \n",
    "Here in CIFAR 10 dataset, we have some difference  with the MNIST dataset. In MINIST data set, the value of each pixel is gray value(from 0 to 255) and then be binarized to 0 and 1. So when we calculate the posterior probability ${P(x_j|C_i)}$, we can compute simply by counting the number of each feature x<sub>j</sub> in the training data set. This method is also called **polynomial model of Naïve Bayes Classifier**   \n",
    "  \n",
    "  \n",
    "However, in CIFAR 10 dataset the picture is much more complicated than the MNIST data. And correct prediction requires a higher precision, so we cannot simply do the binarization on each pixel, otherwise we will get a severe distortion. So instead of the polynomial method, we use the gaussian model to describe the data. In each image, we have 3072 pixels, which means 3072 features in total. Assuming each feature conforms to a gaussian distribution, so by computing the **mean $\\mu$** and **variance $\\sigma$**, we can get the posterior probability of each feature by\n",
    " ${P(x_j|C_i)} \\sim \\mathcal{N}(\\mu_{ij},\\,\\sigma{ij}^{2}) $\n",
    " \n",
    "  "
   ]
  },
  {
   "cell_type": "markdown",
   "metadata": {},
   "source": [
    "In the following part, We will implement the Naïve Bayes classifier on the MNIST  and CIFAR-10 data set. \n",
    "### 3.4.1 Naïve Bayes Classifier on MNIST dataset  \n",
    "#### 1. Implement the Naïve Bayes Classifier"
   ]
  },
  {
   "cell_type": "code",
   "execution_count": 122,
   "metadata": {
    "collapsed": true
   },
   "outputs": [],
   "source": [
    "'''Following are the function that will be used in the implementation'''\n",
    "# Data binarization\n",
    "def binarization(img):\n",
    "    bi_img = img.copy()\n",
    "    for i in range(len(img)):\n",
    "        for j in range(len(img[i])):\n",
    "            if img[i][j] >= threshold:\n",
    "                bi_img[i][j] = 1\n",
    "            else:\n",
    "                bi_img[i][j] = 0\n",
    "    return bi_img\n",
    "#compute Pr\n",
    "def compute_prior(labels):\n",
    "    prior = np.zeros(num_labels)\n",
    "    for i in labels: \n",
    "        prior[i] += 1\n",
    "    return prior\n",
    "              \n",
    "def compute_posterior(data,labels):\n",
    "    posteriori = np.zeros((num_labels,num_pixes,2))\n",
    "    a = []\n",
    "    for i in range(len(data)):\n",
    "        a.append(data[i].flatten())\n",
    "    a = np.array(a)\n",
    "    for i in range(len(a)):\n",
    "        for j in range(num_pixes):\n",
    "            posteriori[labels[i]][j][a[i][j]] += 1  \n",
    "    return posteriori\n",
    "\n",
    "def multiply_pr(test_img,label):\n",
    "    img1 = np.concatenate(test_img)\n",
    "    pr = int(prior_pr[label])\n",
    "    for i in range(len(img1)):\n",
    "        #print(label,img1[i])\n",
    "        pr = int(pr) * int(posterior_pr[label][i][np.int8(img1[i])])\n",
    "    return pr\n",
    "\n",
    "def predict(data,labels):\n",
    "    for i in range(len(data)):\n",
    "        max_label = 0\n",
    "        max_pr = multiply_pr(data[i],0)\n",
    "        for j in range(1,10):\n",
    "            temp = multiply_pr(data[i],j)\n",
    "            if temp > max_pr:\n",
    "                max_label = j\n",
    "                max_pr = temp\n",
    "        predicted.append(max_label)\n",
    "    return predicted\n",
    "\n"
   ]
  },
  {
   "cell_type": "markdown",
   "metadata": {},
   "source": [
    "There are 3 steps in total: preprocessing； generating classifier；prediction and evaluation\n",
    "### Step1 Prepocess the data  \n",
    "\n"
   ]
  },
  {
   "cell_type": "code",
   "execution_count": 123,
   "metadata": {
    "collapsed": true
   },
   "outputs": [],
   "source": [
    "'''import library, macro defining'''\n",
    "import numpy as np\n",
    "import pandas\n",
    "\n",
    "threshold = 0.5*255\n",
    "num_labels = 10\n",
    "num_pixes = 784"
   ]
  },
  {
   "cell_type": "code",
   "execution_count": 124,
   "metadata": {
    "collapsed": false
   },
   "outputs": [],
   "source": [
    "'''Reshape and binarize the data'''\n",
    "#reshape \n",
    "train_data = train_data.reshape(60000,28,28)\n",
    "test_data = test_data.reshape(10000,28,28)\n",
    "\n",
    "#binarization\n",
    "train_sample = [binarization(point) for point in train_data]\n",
    "test_sample = [binarization(point) for point in test_data]"
   ]
  },
  {
   "cell_type": "markdown",
   "metadata": {},
   "source": [
    "### Step2 Train the naïve bayes classifier  \n",
    "In this step, we calculate the prior and posteriori probability of the training data. To avoid the **accuracy loss** and **zero division**, we convert the probability from ```float``` [0,1] to ```int``` [1,10001]"
   ]
  },
  {
   "cell_type": "code",
   "execution_count": 125,
   "metadata": {
    "collapsed": false,
    "scrolled": true
   },
   "outputs": [
    {
     "name": "stderr",
     "output_type": "stream",
     "text": [
      "C:\\Users\\cwent\\Anaconda3\\lib\\site-packages\\ipykernel\\__main__.py:27: VisibleDeprecationWarning: using a non-integer number instead of an integer will result in an error in the future\n"
     ]
    }
   ],
   "source": [
    "'''Calculate the prior and posterior probability'''\n",
    "prior_pr = compute_prior(train_labels)\n",
    "posterior_pr = compute_posterior(train_sample,train_labels)\n",
    "for i in range(num_labels):\n",
    "    #normalize the posteriori to [1,10001]\n",
    "    prior_pr[i] = float(prior_pr[i])/len(train_data)*100000+1\n",
    "    for j in range(num_pixes):\n",
    "        pix_0 = posterior_pr[i][j][0]\n",
    "        pix_1 = posterior_pr[i][j][1]\n",
    "        posterior_pr[i][j][0] = (float(pix_0)/float(pix_0+pix_1))*100000+1\n",
    "        posterior_pr[i][j][1] = (float(pix_1)/float(pix_0+pix_1))*100000+1"
   ]
  },
  {
   "cell_type": "markdown",
   "metadata": {},
   "source": [
    "### Step3 Prediction and evaluation\n",
    "In this step, we will apply the naïve bayes classifier on the test data by compute the product listed in ``formula (3.1)``"
   ]
  },
  {
   "cell_type": "code",
   "execution_count": 126,
   "metadata": {
    "collapsed": false
   },
   "outputs": [],
   "source": [
    "'''Make prediction'''\n",
    "predicted = []\n",
    "result = predict(test_sample,test_labels)"
   ]
  },
  {
   "cell_type": "markdown",
   "metadata": {},
   "source": [
    "\n",
    "After the steps before we get the prediction result. Here we calculate the **accuracy rate** and **log likelihood** to evaluate the model. "
   ]
  },
  {
   "cell_type": "code",
   "execution_count": 127,
   "metadata": {
    "collapsed": false
   },
   "outputs": [
    {
     "name": "stdout",
     "output_type": "stream",
     "text": [
      "The accuracy is 0.8438\n"
     ]
    }
   ],
   "source": [
    "'''compute accuracy rate'''\n",
    "accuracy = 0\n",
    "predicted = np.array(predicted)\n",
    "for i in range(len(predicted)):\n",
    "    if predicted[i] == test_labels[i]:\n",
    "        accuracy += 1 \n",
    "accuracy_rate = float(accuracy)/len(test_labels)\n",
    "print(\"The accuracy is\",accuracy_rate)"
   ]
  },
  {
   "cell_type": "markdown",
   "metadata": {},
   "source": [
    "#### 2.Display the confusion matrix on the test data"
   ]
  },
  {
   "cell_type": "code",
   "execution_count": 74,
   "metadata": {
    "collapsed": false,
    "scrolled": false
   },
   "outputs": [
    {
     "name": "stdout",
     "output_type": "stream",
     "text": [
      "Predicted    0     1    2     3    4    5    6    7    8     9    All\n",
      "Actual                                                               \n",
      "0          882     0    3     4    2   51   20    1   17     0    980\n",
      "1            0  1086    6     5    0    9    4    0   25     0   1135\n",
      "2           17    14  843    32   20    5   27   15   57     2   1032\n",
      "3            3    17   36   842    1   30    8   13   41    19   1010\n",
      "4            2     7    4     0  799    2   16    2   12   138    982\n",
      "5           16    11    5   106   23  657   18    7   24    25    892\n",
      "6           16    14   15     1   14   37  854    0    7     0    958\n",
      "7            2    33   17     3   17    0    0  864   25    67   1028\n",
      "8           10    28   12    68   15   28   10    6  762    35    974\n",
      "9           11    13    6     8   63    9    0   29   21   849   1009\n",
      "All        959  1223  947  1069  954  828  957  937  991  1135  10000\n"
     ]
    },
    {
     "data": {
      "image/png": "[encoded data removed]",
      "text/plain": [
       "<matplotlib.figure.Figure at 0x26583b642b0>"
      ]
     },
     "metadata": {},
     "output_type": "display_data"
    }
   ],
   "source": [
    "import pandas as pd\n",
    "y_actu = pd.Series(test_labels, name='Actual')\n",
    "y_pred = pd.Series(predicted, name='Predicted')\n",
    "df_confusion = pd.crosstab(y_actu, y_pred, rownames=['Actual'], colnames=['Predicted'], margins=True)\n",
    "print(df_confusion)\n",
    "def plot_confusion_matrix(df_confusion, title='Confusion matrix', cmap=plt.cm.gray_r):\n",
    "#     plt.figure(figsize=(10,10))\n",
    "    plt.matshow(df_confusion, cmap=cmap) # imshow\n",
    "    \n",
    "    #plt.title(title)\n",
    "    plt.colorbar()\n",
    "    \n",
    "    tick_marks = np.arange(len(df_confusion.columns))\n",
    "    plt.xticks(tick_marks, df_confusion.columns, rotation=45)\n",
    "    plt.yticks(tick_marks, df_confusion.index)\n",
    "    #plt.tight_layout()\n",
    "    plt.ylabel(df_confusion.index.name)\n",
    "    plt.xlabel(df_confusion.columns.name)\n",
    "\n",
    "plot_confusion_matrix(df_confusion)"
   ]
  },
  {
   "cell_type": "markdown",
   "metadata": {},
   "source": [
    "#### 3.Discuss the performance, compare them against a classifier that outputs random class labels, and suggest ways in which performance could be improved \n",
    "-  Discuss the performance  \n",
    "The accuracy of Naïve Bayes Classifier on MNIST dataset is 0.8438. We can consider that for most of the images in the dataset(over 80%), the prediction is correct. In the front part we discussed that Naïve Bayes Classifier is not a good choice for image classification case. But for MNIST dataset, the pixel composition is quite simple, and after binarization we can still recgonize the number it represents, so we get a decent accuracy. However, due to the natural limitation of Naïve Bayes Classifier, the accuracy cannot reach higher on the MNIST dataset.   \n",
    "\n",
    "- Compare against other classifier  \n",
    "In the following part I implement a **random classifer that output the most frequent result**, and make the comparison with the Naïve Bayes Classifier."
   ]
  },
  {
   "cell_type": "code",
   "execution_count": 186,
   "metadata": {
    "collapsed": false
   },
   "outputs": [
    {
     "name": "stdout",
     "output_type": "stream",
     "text": [
      "final accuracy is: 0.1135\n"
     ]
    }
   ],
   "source": [
    "from sklearn.dummy import DummyClassifier\n",
    "clf = DummyClassifier(strategy='most_frequent',random_state=0)\n",
    "clf.fit(train_sample, train_labels)\n",
    "DummyClassifier(constant=None, random_state=0, strategy='most_frequent')\n",
    "score = clf.score(np.array(test_sample).reshape(10000,num_pixes), test_labels)  \n",
    "print(\"final accuracy is:\",score)"
   ]
  },
  {
   "cell_type": "markdown",
   "metadata": {},
   "source": [
    "- Ways to improve the performance  \n",
    "In this code we did the binarization on the training data for simplicity. But this could omit some original information of the image. If we use the grey value of [0,255] instead the binarization value, we should get a better result, at the cost of more computation and storage."
   ]
  },
  {
   "cell_type": "markdown",
   "metadata": {},
   "source": [
    "\n",
    "### 3.4.2 Naïve Bayes Classifier on CIFAR 10 dataset   \n",
    "#### 1.Implement the Naïve Bayes Classifier\n",
    "Show the shape of data\n",
    " \n",
    "\n",
    "\n"
   ]
  },
  {
   "cell_type": "code",
   "execution_count": 106,
   "metadata": {
    "collapsed": false
   },
   "outputs": [
    {
     "name": "stdout",
     "output_type": "stream",
     "text": [
      "(10000,)\n",
      "(10000, 3072)\n",
      "(10000,)\n",
      "10000\n",
      "{b'num_cases_per_batch': 10000, b'label_names': [b'airplane', b'automobile', b'bird', b'cat', b'deer', b'dog', b'frog', b'horse', b'ship', b'truck'], b'num_vis': 3072}\n"
     ]
    }
   ],
   "source": [
    "print(np.shape(data_batch_1[b'labels']))\n",
    "print(np.shape(data_batch_1[b'data']))\n",
    "print(np.shape(data_batch_1[b'filenames']))\n",
    "print(len(data_batch_1[b'filenames']))\n",
    "print(batch_names)"
   ]
  },
  {
   "cell_type": "markdown",
   "metadata": {},
   "source": [
    "### Step1 Prepocess the data  \n",
    "For the training and test parts, we only need the **data** and **label**   "
   ]
  },
  {
   "cell_type": "code",
   "execution_count": 107,
   "metadata": {
    "collapsed": false
   },
   "outputs": [
    {
     "name": "stdout",
     "output_type": "stream",
     "text": [
      "data: (10000, 3072)\n",
      "labels: (10000,)\n"
     ]
    }
   ],
   "source": [
    "CIFAR_data = data_batch_1[b'data']\n",
    "CIFAR_labels = data_batch_1[b'labels']\n",
    "print(\"data:\",np.shape(CIFAR_data))\n",
    "print(\"labels:\",np.shape(CIFAR_labels))"
   ]
  },
  {
   "cell_type": "markdown",
   "metadata": {},
   "source": [
    "### Step2 Train the naïve bayes classifier  \n"
   ]
  },
  {
   "cell_type": "code",
   "execution_count": 108,
   "metadata": {
    "collapsed": true
   },
   "outputs": [],
   "source": [
    "'''variables and functions that will be used'''\n",
    "num_labels_CIFAR = 10\n",
    "num_pixes_CIFAR = 3072\n",
    "num_samples_CIFAR = 10000\n",
    "\n",
    "def compute_prior(labels):\n",
    "    prior = np.zeros(num_labels_CIFAR)\n",
    "    for i in labels:\n",
    "        prior[i] += 1\n",
    "    for i in range(len(prior)):\n",
    "        prior[i] /= float(len(labels))\n",
    "    return prior\n",
    "def compute_mean(data,labels):\n",
    "    accu = np.zeros((num_labels_CIFAR,num_pixes_CIFAR))\n",
    "    means = np.zeros((num_labels_CIFAR,num_pixes_CIFAR))\n",
    "    num_index_mean = np.zeros((num_labels_CIFAR,num_pixes_CIFAR))\n",
    "    for i in range(num_pixes_CIFAR):\n",
    "        for j in range(num_samples_CIFAR):\n",
    "            accu[labels[j]][i] += data[j][i]\n",
    "            num_index_mean[labels[j]][i] +=1\n",
    "    for i in range(num_labels_CIFAR):\n",
    "        for j in range(num_pixes_CIFAR):\n",
    "            means[i][j] = accu[i][j]/num_index_mean[i][j]\n",
    "    return means\n",
    "def compute_stddev(data,labels,means):\n",
    "    stddev_pre = np.zeros((num_labels_CIFAR,num_pixes_CIFAR))\n",
    "    stddevs = np.zeros((num_labels_CIFAR,num_pixes_CIFAR))\n",
    "    num_index_stddev = np.zeros((num_labels_CIFAR,num_pixes_CIFAR))\n",
    "    for i in range(num_pixes_CIFAR):\n",
    "        for j in range(num_samples_CIFAR):\n",
    "            stddev_pre[labels[j]][i] += (data[j][i]-means[labels[j]][i])**2\n",
    "            num_index_stddev[labels[j]][i] +=1\n",
    "    for i in range(num_labels_CIFAR):\n",
    "        for j in range(num_pixes_CIFAR):\n",
    "            stddevs[i][j] = np.sqrt(stddev_pre[i][j]/num_index_stddev[i][j])\n",
    "    return stddevs\n",
    "def gaussian(x,mu,sigma):\n",
    "    pdf = np.exp(-((x - mu)**2)/(2*sigma**2)) / (sigma * np.sqrt(2*np.pi))\n",
    "    return pdf\n",
    "def compute_posterior(data,labels):\n",
    "    pass"
   ]
  },
  {
   "cell_type": "code",
   "execution_count": 109,
   "metadata": {
    "collapsed": true
   },
   "outputs": [],
   "source": [
    "'''Calculate the prior probability and then compute the mean and variance of each feature to construct a gaussian model.'''\n",
    "priors = compute_prior(CIFAR_labels)\n",
    "means = compute_mean(CIFAR_data,CIFAR_labels)\n",
    "stddevs = compute_stddev(CIFAR_data,CIFAR_labels,means)"
   ]
  },
  {
   "cell_type": "markdown",
   "metadata": {},
   "source": [
    "### Step3 Predict the new data using naïve bayes classifier\n",
    "In this step, we will apply the naïve bayes classifier on the test data and evaluate the model."
   ]
  },
  {
   "cell_type": "code",
   "execution_count": 110,
   "metadata": {
    "collapsed": false
   },
   "outputs": [],
   "source": [
    "def multiply_pr_CIFAR(img,label):\n",
    "    pr = int(priors[label])\n",
    "    for i in range(len(img)):\n",
    "        pr = pr * int(gaussian(img[i],means[label][i],stddevs[label][i])*1000000)\n",
    "    return pr\n",
    "\n",
    "def log_multiply_pr_CIFAR(img,label):\n",
    "    pr = np.log(float(priors[label]))\n",
    "    for i in range(len(img)):\n",
    "        pr += np.log(gaussian(img[i],means[label][i],stddevs[label][i]))\n",
    "    return pr\n",
    "\n",
    "def predict_CIFAR(data,labels):\n",
    "    predicted = []\n",
    "    for i in range(len(data)):\n",
    "        max_label = 0\n",
    "        max_pr = log_multiply_pr_CIFAR(data[i],0)\n",
    "        for j in range(1,10):\n",
    "            temp = log_multiply_pr_CIFAR(data[i],j)\n",
    "            if temp > max_pr:\n",
    "                max_label = j\n",
    "                max_pr = temp\n",
    "        predicted.append(max_label)\n",
    "    return predicted\n",
    "# t0 = time.time()   \n",
    "# predicted_2 = predict_CIFAR(CIFAR_data,CIFAR_labels)\n",
    "# t1 = time.time()   \n",
    "# print(t1-t0)"
   ]
  },
  {
   "cell_type": "code",
   "execution_count": 111,
   "metadata": {
    "collapsed": false,
    "scrolled": true
   },
   "outputs": [],
   "source": [
    "'''sample 1000 data for test'''\n",
    "CIFAR_data_test = test_batch[b'data']\n",
    "CIFAR_labels_test = test_batch[b'labels']\n",
    "predicted_2 = predict_CIFAR(CIFAR_data_test[0:1000],CIFAR_labels_test[0:1000])"
   ]
  },
  {
   "cell_type": "markdown",
   "metadata": {},
   "source": [
    "### Evaluate the accuracy\n",
    "Here we use the test dataset to ecaluate the accuracy of the model."
   ]
  },
  {
   "cell_type": "code",
   "execution_count": 52,
   "metadata": {
    "collapsed": false
   },
   "outputs": [
    {
     "name": "stdout",
     "output_type": "stream",
     "text": [
      "0.29600000000000004\n"
     ]
    }
   ],
   "source": [
    "flatten_data = CIFAR_labels_test\n",
    "error = 0\n",
    "for i in range(1000):\n",
    "    if predicted_2[i]!=flatten_data[i]:\n",
    "        error += 1\n",
    "print (1-float(error)/1000)"
   ]
  },
  {
   "cell_type": "markdown",
   "metadata": {},
   "source": [
    "#### 2.Display the confusion matrix on the test data"
   ]
  },
  {
   "cell_type": "code",
   "execution_count": 112,
   "metadata": {
    "collapsed": false,
    "scrolled": false
   },
   "outputs": [
    {
     "name": "stdout",
     "output_type": "stream",
     "text": [
      "Predicted  0.0  1.0  2.0  3.0  4.0  5.0  6.0  7.0  8.0  9.0   All\n",
      "Actual                                                           \n",
      "0           47    1    4    1    5    2    9    1   19   14   103\n",
      "1           10   15    1    0    6    8   22    2   12   13    89\n",
      "2           25    2    5    1   29    7   18    2    9    2   100\n",
      "3           16    6    3    5   17   11   31    5    2    7   103\n",
      "4           12    1    8    3   26    3   24    2    7    4    90\n",
      "5           17    0    5    1   15   21   14    3    5    5    86\n",
      "6           13    1    6    1   27    2   56    0    1    5   112\n",
      "7           19    4    6    5   23    5    7   17    3   13   102\n",
      "8           17    5    2    2    4    9    2    1   53   11   106\n",
      "9            9    6    2    2    7    4   11    2   15   51   109\n",
      "All        185   41   42   21  159   72  194   35  126  125  1000\n"
     ]
    },
    {
     "data": {
      "image/png": "[encoded data removed]",
      "text/plain": [
       "<matplotlib.figure.Figure at 0x1b3806f7a58>"
      ]
     },
     "metadata": {},
     "output_type": "display_data"
    }
   ],
   "source": [
    "import pandas as pd\n",
    "y_actu = pd.Series(CIFAR_labels_test, name='Actual')\n",
    "y_pred = pd.Series(predicted_2, name='Predicted')\n",
    "df_confusion = pd.crosstab(y_actu, y_pred, rownames=['Actual'], colnames=['Predicted'], margins=True)\n",
    "print(df_confusion)\n",
    "def plot_confusion_matrix(df_confusion, title='Confusion matrix', cmap=plt.cm.gray_r):\n",
    "    plt.matshow(df_confusion, cmap=cmap) # imshow\n",
    "    plt.colorbar()\n",
    "    tick_marks = np.arange(len(df_confusion.columns))\n",
    "    plt.xticks(tick_marks, df_confusion.columns, rotation=45)\n",
    "    plt.yticks(tick_marks, df_confusion.index)\n",
    "    #plt.tight_layout()\n",
    "    plt.ylabel(df_confusion.index.name)\n",
    "    plt.xlabel(df_confusion.columns.name)\n",
    "plot_confusion_matrix(df_confusion)"
   ]
  },
  {
   "cell_type": "markdown",
   "metadata": {},
   "source": [
    "#### 3.Discuss the performance, compare them against a classifier that outputs random class labels, and suggest ways in which performance could be improved   \n",
    "- Discuss the performance  \n",
    "In CIFAR10 data set, we got the accuracy around 30%, which is much lower than in the MNIST dataset. This result is reasonable because in CIFAR10  dataset, we have a more complicated image composition. The images are RGB pictures instead of the grey value; also the target is a specific object like 'dog' or 'cat' rather than a single number, which is more difficult to recognize. So as a frequency-based method, Naive Bayes Classifier doestno't work well on this dataset.  \n",
    "- Compare against other classifier  \n",
    "Similar to MNIST data, we implement a **random classifer that output the most frequent result**, and make the comparison with the Naïve Bayes Classifier."
   ]
  },
  {
   "cell_type": "code",
   "execution_count": 189,
   "metadata": {
    "collapsed": false
   },
   "outputs": [
    {
     "name": "stdout",
     "output_type": "stream",
     "text": [
      "final accuracy is: 0.1\n"
     ]
    }
   ],
   "source": [
    "from sklearn.dummy import DummyClassifier\n",
    "clf = DummyClassifier(strategy='most_frequent',random_state=0)\n",
    "clf.fit(train_sample, train_labels)\n",
    "DummyClassifier(constant=None, random_state=0, strategy='most_frequent')\n",
    "score = clf.score(np.array(CIFAR_data_test), CIFAR_labels_test)  \n",
    "print(\"final accuracy is:\",score)"
   ]
  },
  {
   "cell_type": "markdown",
   "metadata": {},
   "source": [
    "This \"most-frequent\" mothod is worse than on the MNIST data, only get the accuracy of 0.1.  \n",
    "- ways to improve performance  \n",
    "Considering the fact that naive bayes is not a good model to classify CIFAR10 dataset, the most efficient way is change to another algorithm instead of sticking in the naive bayes method."
   ]
  },
  {
   "cell_type": "markdown",
   "metadata": {},
   "source": [
    "## 4 Linear Regression"
   ]
  },
  {
   "cell_type": "markdown",
   "metadata": {},
   "source": [
    "\n",
    "### 4.0 Bayesian linear regression theory   \n",
    "a) Maximize Likelihood and minimize loss function\n",
    "Assume we have the data set **x** and the target **t**, their relation is described as follows:  \n",
    "$$t = y({\\bf{x}},{\\bf{w}}) + ε                       \\tag{2.1}   $$\n",
    "y(x,w) is a linear function with respect to **w**； **ε** is a zero mean Gaussian random variable with precision **β**.  \n",
    "We can rewrite (2.1) as following:  \n",
    "$$p(t|{\\bf{x}},{\\bf{w}},β) = N(t|y({\\bf{x}},{\\bf{w}}),β^{-1})                   \\tag{2.2}$$\n",
    "Now, assuming that the data points are drawn independently from the distribution ```(2.2)```, we get the likeliood function as following:  \n",
    "$$p({\\bf{t}|X,w},β) = \\quad\\prod_{n=1}^N {N(t_n|{\\bf{w_T}} Φ(x_n), β^{-1})} \\quad \\tag{2.3}$$  \n",
    "Via maximizing the log of likelihood, we get the estimation of **w** and β:  \n",
    "$${\\bf{w_{ML}}} = ({\\Phi^T\\Phi^{-1}})\\Phi^Tt\\tag{2.4}$$    \n",
    "$$β^{-1} = N^{-1} \\sum_{n=1}^{N} {(t_n -{\\bf{w_{ML}^T}}} Φ(x_n))^2 \\tag{2.5}$$   \n",
    "The result is actually equivalent to** minimizing a square loss function.**\n",
    "\n",
    "b) Bayesian Linear regression  \n",
    "The methods above to compute **w** is a point estimation of the data model. The problem of this kind of   point estimation is that as the dimensions of basis function (i.e. the complexity of inner structure in y(w,x))increases, the model become computational expensive. Also it will easily reach the problem of **over-fitting**. Adding a regularization term can balance this problem, but the choice of the basis function is still important in determine the overall behaviour of the model.  \n",
    "  \n",
    "In bayesian point of view, what we estimate is not a point value of parameter **w**, but a probabilistic distribution of **w**. Thus the final estimation is given by calculating the mean of **w** from its distribution.  \n",
    "  \n",
    "In bayesian, the goal is to compute **w** by the posterior density $p({\\bf{w|X,t}})$  \n",
    "  \n",
    "According to the bayesian rule, we have:\n",
    "$$p({\\bf{w|X,t}}) = \\frac{p({\\bf{t|X,w}})p({\\bf{w}})} {p({\\bf{t}}|{\\bf{X}})}\\tag{2.6}$$  \n",
    "Posterior density: &#8194; $p({\\bf{w|X,t}})$  \n",
    "Likelihood: &#8194; $p({\\bf{t|X,w}})$  \n",
    "Prior density: &#8194; $p({\\bf{w}})$  \n",
    "Marginal likelihood:&#8194; ${p({\\bf{t}}|{\\bf{X}})}$  \n",
    "  \n",
    "According to the conjugacy theorem, a prior $p({\\bf{w}})$  is said to be conjugate to a likelihood if it results in a posterior of the same type of density as the prior. That is to say, if the prior and the likelihood is gaussian, then the posterior is also gaussian. So in this case, we don't need to calculate the marginal likelihood ${p({\\bf{t}}|{\\bf{X}})}$.  \n",
    "  \n",
    "We'll use gaussian likelihood and prior density: \n",
    "$$p({\\bf{t|X,w}}) = N({\\bf{Xw}},\\sigma{\\bf{I}})\\tag{2.7}$$  \n",
    " $$p({\\bf{w}})  = N(0,{\\bf{S}})\\tag{2.8}$$  \n",
    "$$p({\\bf{w|X,t}}) = N({\\bf{\\mu,\\Sigma}})\\tag{2.9}$$\n",
    "After some complicated mathematic calculation, we got the result as follows: \n",
    "$${\\bf{\\Sigma}} = {\\frac {1} {{\\sigma}^2}}({\\bf{X^TX+S^{-1}}})^{-1}\\tag{2.10}$$\n",
    "$${\\bf{\\mu}} = {\\frac {1} {{\\sigma}^2}} {\\bf{{\\Sigma}X^Tt}}\\tag{2.11}$$  \n",
    "  \n",
    "The mean $\\mu$ can be regarded as our final estimation of **w**.    \n",
    "Therefore, our goal is using the training data to find $\\mu$ according to the formula above, and then use the model **t = Xw** to do the prediction on the test data.\n",
    "\n",
    "\n",
    "\n"
   ]
  },
  {
   "cell_type": "markdown",
   "metadata": {
    "collapsed": true
   },
   "source": [
    "### 4.1 Implement Bayesian linear regression  \n"
   ]
  },
  {
   "cell_type": "code",
   "execution_count": 9,
   "metadata": {
    "collapsed": false
   },
   "outputs": [],
   "source": [
    "'''compute expectation of the posterior probability'''\n",
    "from numpy.linalg import inv\n",
    "from numpy.linalg import solve\n",
    "def compute_posterior(X,S,sigma,t,N):\n",
    "    temp = np.dot(X.T,X)\n",
    "    Sigma = solve(((1/(sigma**2))*temp + solve(S,np.identity(N))),np.identity(N))\n",
    "    mu =  (1/(sigma**2))*np.dot(np.dot(Sigma,X.T),t)\n",
    "    return mu\n",
    "    "
   ]
  },
  {
   "cell_type": "markdown",
   "metadata": {},
   "source": [
    "#### 4.1.1 Bayesian linear regression on MNIST data"
   ]
  },
  {
   "cell_type": "markdown",
   "metadata": {},
   "source": [
    "#### Step 1 Prepare the data"
   ]
  },
  {
   "cell_type": "code",
   "execution_count": 10,
   "metadata": {
    "collapsed": false
   },
   "outputs": [],
   "source": [
    "'''import library, macro defining'''\n",
    "num_labels = 10\n",
    "num_pixes = 784\n",
    "#reshape the data\n",
    "train_lr = train_data.reshape(60000,num_pixes)\n",
    "test_lr = test_data.reshape(10000,num_pixes)"
   ]
  },
  {
   "cell_type": "markdown",
   "metadata": {},
   "source": [
    "####  Step 2 Define the prior.\n",
    "According to the analysis above, the prior density should be the 784+1 = 785 dimensional zero means Multi-variable Gaussian distribution. The extra 1 dimension is the bias.  \n",
    "Since we know nothing about the prior covariance **S**, we choose a **random symmetric matrix** for it.\n"
   ]
  },
  {
   "cell_type": "code",
   "execution_count": 11,
   "metadata": {
    "collapsed": false,
    "scrolled": true
   },
   "outputs": [],
   "source": [
    "'''Define the prior of w'''\n",
    "Mu = np.zeros(785)\n",
    "Cov = np.random.rand(785,785)\n",
    "Cov = (Cov + Cov.T)/2"
   ]
  },
  {
   "cell_type": "markdown",
   "metadata": {},
   "source": [
    "#### Step 3 Calculate the $\\Sigma$ and $\\mu$  \n",
    "Here we use $\\mu$ to represent w, i.e. **w_hat**"
   ]
  },
  {
   "cell_type": "code",
   "execution_count": 51,
   "metadata": {
    "collapsed": false,
    "scrolled": true
   },
   "outputs": [],
   "source": [
    "'''Calculate the  Σ  and  μ, to get the  posterior'''\n",
    "X = np.insert(train_lr,0,1,axis = 1)\n",
    "t = train_labels\n",
    "sigma = 0.05\n",
    "S = Cov\n",
    "N = 785\n",
    "mu_mnist = compute_posterior(X,S,sigma,t,N)"
   ]
  },
  {
   "cell_type": "markdown",
   "metadata": {},
   "source": [
    "#### Step 4 Make the prediction "
   ]
  },
  {
   "cell_type": "code",
   "execution_count": 52,
   "metadata": {
    "collapsed": false
   },
   "outputs": [],
   "source": [
    "'''Make prediction'''\n",
    "#insert 1 to test data considering the bias\n",
    "test_X = np.insert(test_lr,0,1,axis = 1)\n",
    "pred = np.dot(test_X,mu_mnist)"
   ]
  },
  {
   "cell_type": "markdown",
   "metadata": {},
   "source": [
    "### 4.1.2 Bayesian linear regression on CIFAR 10 data\n",
    "#### Step 1 Prepare the data"
   ]
  },
  {
   "cell_type": "code",
   "execution_count": 88,
   "metadata": {
    "collapsed": false
   },
   "outputs": [
    {
     "name": "stdout",
     "output_type": "stream",
     "text": [
      "data: (10000, 3072)\n",
      "labels: (10000,)\n"
     ]
    }
   ],
   "source": [
    "train_CF = data_batch_1[b'data']\n",
    "train_labels_CF = data_batch_1[b'labels']\n",
    "print(\"data:\",np.shape(train_CF))\n",
    "print(\"labels:\",np.shape(train_labels_CF))"
   ]
  },
  {
   "cell_type": "markdown",
   "metadata": {},
   "source": [
    "#### Step 2 define the prior"
   ]
  },
  {
   "cell_type": "code",
   "execution_count": 89,
   "metadata": {
    "collapsed": true
   },
   "outputs": [],
   "source": [
    "Mu_c = np.zeros(3073)\n",
    "Cov_c = np.random.rand(3073,3073)\n",
    "Cov_c = (Cov_c + Cov_c.T)/2"
   ]
  },
  {
   "cell_type": "markdown",
   "metadata": {},
   "source": [
    "#### Step 3 Calculate the $\\Sigma$ and $\\mu$"
   ]
  },
  {
   "cell_type": "code",
   "execution_count": 91,
   "metadata": {
    "collapsed": false
   },
   "outputs": [],
   "source": [
    "X_c = np.insert(train_CF,0,1,axis = 1)\n",
    "X_c = X_c.astype(float)\n",
    "t_c = train_labels_CF\n",
    "sigma_c = 0.05\n",
    "S_c = Cov_c\n",
    "N_c = 3073\n",
    "mu_CF = compute_posterior(X_c,S_c,sigma_c,t_c,N_c)"
   ]
  },
  {
   "cell_type": "markdown",
   "metadata": {},
   "source": [
    "#### Step 4 Make the prediction"
   ]
  },
  {
   "cell_type": "code",
   "execution_count": 92,
   "metadata": {
    "collapsed": true
   },
   "outputs": [],
   "source": [
    "CIFAR_data_test = test_batch[b'data']\n",
    "test_data_CF = np.insert(CIFAR_data_test,0,1,axis = 1)\n",
    "test_labels_CF = test_batch[b'labels']"
   ]
  },
  {
   "cell_type": "code",
   "execution_count": 113,
   "metadata": {
    "collapsed": false,
    "scrolled": true
   },
   "outputs": [],
   "source": [
    "pred_c = np.dot(test_data_CF,mu_CF)"
   ]
  },
  {
   "cell_type": "code",
   "execution_count": 94,
   "metadata": {
    "collapsed": false
   },
   "outputs": [],
   "source": [
    "def normalize(x):\n",
    "    #length = np.max(x) - np.min(x)\n",
    "    lower = np.min(x)\n",
    "    x = x-lower #convert each element to make sure they start from 0\n",
    "    upper = np.max(x)\n",
    "    x = x/(upper+0.000001) #normalize each element to be in range[0,1)\n",
    "    x = (x*10).astype(int)\n",
    "    return x\n",
    "result_c = normalize(pred_c)"
   ]
  },
  {
   "cell_type": "code",
   "execution_count": 95,
   "metadata": {
    "collapsed": false
   },
   "outputs": [
    {
     "name": "stdout",
     "output_type": "stream",
     "text": [
      "accuracy: 0.10509999999999997\n"
     ]
    }
   ],
   "source": [
    "error_c = 0\n",
    "for i in range(len(test_labels_CF)):\n",
    "    if result_c[i] != test_labels_CF[i]:\n",
    "        error_c += 1\n",
    "print(\"accuracy:\",1 - error_c/float(len(test_labels_CF)))    "
   ]
  },
  {
   "cell_type": "markdown",
   "metadata": {},
   "source": [
    "### 4.2 Scatter plot of the predictions and the mean square error\n"
   ]
  },
  {
   "cell_type": "markdown",
   "metadata": {},
   "source": [
    "#### 4.2.1  MNIST Data\n",
    "- Scatter plot"
   ]
  },
  {
   "cell_type": "code",
   "execution_count": 21,
   "metadata": {
    "collapsed": false
   },
   "outputs": [
    {
     "data": {
      "image/png": "[encoded data removed]",
      "text/plain": [
       "<matplotlib.figure.Figure at 0x1b3dceb16a0>"
      ]
     },
     "metadata": {},
     "output_type": "display_data"
    }
   ],
   "source": [
    "\"\"\"\n",
    "scatter plot of prediction on MNIST data\n",
    "\"\"\"\n",
    "N = len(t)\n",
    "x = test_labels[:]\n",
    "y = pred[:]\n",
    "#colors = np.random.rand(N)\n",
    "area = np.pi * (15 * np.random.rand(N))**2  # 0 to 15 point radii\n",
    "\n",
    "plt.scatter(x, y)\n",
    "plt.xlabel('true classes')\n",
    "plt.ylabel('prediction')\n",
    "plt.show()"
   ]
  },
  {
   "cell_type": "markdown",
   "metadata": {},
   "source": [
    "According to the scatter graph above, we got a outlet value. To visualize better this figure, we choose to omit this outlet and draw the scatter again."
   ]
  },
  {
   "cell_type": "code",
   "execution_count": 84,
   "metadata": {
    "collapsed": false
   },
   "outputs": [
    {
     "name": "stdout",
     "output_type": "stream",
     "text": [
      "outlet -7.772194 is in index 3394\n"
     ]
    },
    {
     "data": {
      "image/png": "[encoded data removed]",
      "text/plain": [
       "<matplotlib.figure.Figure at 0x1b384d8d1d0>"
      ]
     },
     "metadata": {},
     "output_type": "display_data"
    }
   ],
   "source": [
    "'''\n",
    "Scatter plot on MNIST data - without outlet\n",
    "'''\n",
    "outlet = np.min(y)\n",
    "index = y.tolist().index(outlet)\n",
    "print(\"outlet %f is in index %d\"%(outlet,index))\n",
    "y = np.append(y[0:index],y[index+1:])\n",
    "x = np.append(x[0:index],x[index+1:])\n",
    "area = np.pi * (15 * np.random.rand(N))**2  # 0 to 15 point radii\n",
    "plt.xlabel('true classes')\n",
    "plt.ylabel('prediction')\n",
    "plt.scatter(x, y)\n",
    "plt.show()"
   ]
  },
  {
   "cell_type": "markdown",
   "metadata": {},
   "source": [
    "- Mean square error"
   ]
  },
  {
   "cell_type": "code",
   "execution_count": 85,
   "metadata": {
    "collapsed": false
   },
   "outputs": [
    {
     "name": "stdout",
     "output_type": "stream",
     "text": [
      "MSE 11.8438987271\n"
     ]
    }
   ],
   "source": [
    "SE = 0\n",
    "for i in range(len(x)):\n",
    "    SE += (x[i]-y[i])**2\n",
    "MSE = SE/len(x)\n",
    "print(\"MSE\",MSE)"
   ]
  },
  {
   "cell_type": "markdown",
   "metadata": {},
   "source": [
    "#### 4.2.2  CIFAR 10 Data\n",
    "- Scatter plot"
   ]
  },
  {
   "cell_type": "code",
   "execution_count": 86,
   "metadata": {
    "collapsed": false
   },
   "outputs": [
    {
     "data": {
      "image/png": "[encoded data removed]",
      "text/plain": [
       "<matplotlib.figure.Figure at 0x1b384bf1d30>"
      ]
     },
     "metadata": {},
     "output_type": "display_data"
    }
   ],
   "source": [
    "\"\"\"\n",
    "scatter plot of prediction on CIFAR 10 data\n",
    "\"\"\"\n",
    "N = len(t)\n",
    "x = test_labels_CF[:]\n",
    "y = pred_c[:]\n",
    "#colors = np.random.rand(N)\n",
    "area = np.pi * (15 * np.random.rand(N))**2  # 0 to 15 point radii\n",
    "\n",
    "plt.scatter(x, y)\n",
    "plt.xlabel('true classes')\n",
    "plt.ylabel('prediction')\n",
    "plt.show()"
   ]
  },
  {
   "cell_type": "markdown",
   "metadata": {},
   "source": [
    "- Mean square error\n"
   ]
  },
  {
   "cell_type": "code",
   "execution_count": 87,
   "metadata": {
    "collapsed": false
   },
   "outputs": [
    {
     "name": "stdout",
     "output_type": "stream",
     "text": [
      "MSE: 11.850409476\n"
     ]
    }
   ],
   "source": [
    "SE = 0\n",
    "for i in range(len(x)):\n",
    "    SE += (x[i]-y[i])**2\n",
    "MSE = SE/len(x)\n",
    "print(\"MSE:\",MSE)"
   ]
  },
  {
   "cell_type": "markdown",
   "metadata": {},
   "source": [
    "### 4.3 Discretize predictions and display the confusion matrix\n",
    "The output is a continues value set. In order to descretize the output to [0,9] integers, first we need to normalize(squeez) the output to a float number in [0,10), then get convert them to integer.\n"
   ]
  },
  {
   "cell_type": "code",
   "execution_count": 78,
   "metadata": {
    "collapsed": false
   },
   "outputs": [],
   "source": [
    "'''\n",
    "remove the outlet value\n",
    "'''\n",
    "def remove_outlet(x):\n",
    "    outlet = np.min(x)\n",
    "    x = list(x)\n",
    "    idx = x.index(outlet)\n",
    "    return x[0:idx] + x[idx+1:]\n",
    "def get_outlet_idx(x):\n",
    "    x = list(x)\n",
    "    idx = x.index(np.min(x))\n",
    "    return idx\n",
    "idx_m = get_outlet_idx(pred)\n",
    "pred_m = remove_outlet(pred)\n"
   ]
  },
  {
   "cell_type": "code",
   "execution_count": 79,
   "metadata": {
    "collapsed": true
   },
   "outputs": [],
   "source": [
    "'''\n",
    "descetize the value to the integers[0,9]\n",
    "'''\n",
    "def descretize(x):\n",
    "    lower = np.min(x)\n",
    "    x = x-lower #convert each element to make sure they start from 0\n",
    "    upper = np.max(x)\n",
    "    x = x/(upper+0.000001) #normalize each element to be in range[0,1)\n",
    "    x = (x*10).astype(int)\n",
    "    return x"
   ]
  },
  {
   "cell_type": "markdown",
   "metadata": {},
   "source": [
    "#### 4.3.1 MNIST data  \n",
    "- Descetize"
   ]
  },
  {
   "cell_type": "code",
   "execution_count": 80,
   "metadata": {
    "collapsed": false
   },
   "outputs": [],
   "source": [
    "'''normalize the data so that the value of points is converted to range [0,9]'''\n",
    "result = descretize(pred_m)"
   ]
  },
  {
   "cell_type": "markdown",
   "metadata": {},
   "source": [
    "- Evaluate the accuracy"
   ]
  },
  {
   "cell_type": "code",
   "execution_count": 81,
   "metadata": {
    "collapsed": false
   },
   "outputs": [
    {
     "name": "stdout",
     "output_type": "stream",
     "text": [
      "accuracy: 0.16071607160716073\n"
     ]
    }
   ],
   "source": [
    "'''evaluate the model by accuracy'''\n",
    "error = 0\n",
    "test_labels_m = np.append(test_labels[0:idx_m],test_labels[idx_m+1:])\n",
    "for i in range(len(test_labels_m)):\n",
    "    if result[i] != test_labels_m[i]:\n",
    "        error += 1\n",
    "print(\"accuracy:\",1-error/float(len(test_labels_m)))    "
   ]
  },
  {
   "cell_type": "markdown",
   "metadata": {},
   "source": [
    "- Confusion matrix"
   ]
  },
  {
   "cell_type": "code",
   "execution_count": 83,
   "metadata": {
    "collapsed": false
   },
   "outputs": [],
   "source": [
    "from sklearn.metrics import confusion_matrix\n",
    "import itertools\n",
    "def plot_confusion_matrix(cm,\n",
    "                          normalize=False,\n",
    "                          title='Confusion matrix',\n",
    "                          cmap=plt.cm.Blues):\n",
    "    \"\"\"\n",
    "    This function prints and plots the confusion matrix.\n",
    "    Normalization can be applied by setting `normalize=True`.\n",
    "    \"\"\"\n",
    "    fig = plt.figure(figsize = (20,8)) # create a 5 x 5 figure \n",
    "    ax = fig.add_subplot(111)\n",
    "    ace = ax.imshow(cm, interpolation='nearest', cmap=cmap)\n",
    "\n",
    "    ax.set_title(title)\n",
    "\n",
    "    fig.colorbar(ace)\n",
    "\n",
    "\n",
    "    if normalize:\n",
    "        cm = cm.astype('float') / cm.sum(axis=1)[:, np.newaxis]\n",
    "        print(\"Normalized confusion matrix\")\n",
    "    else:\n",
    "        print('Confusion matrix, without normalization')\n",
    "    print(cm)\n",
    "    thresh = cm.max() / 2.\n",
    "#     plt.figure(figsize=(15,8))\n",
    "    for i, j in itertools.product(range(cm.shape[0]), range(cm.shape[1])):\n",
    "        plt.text(j, i, cm[i, j],\n",
    "                 horizontalalignment=\"center\",\n",
    "                 color=\"white\" if cm[i, j] > thresh else \"black\")\n",
    "    #plt.tight_layout()\n",
    "    plt.ylabel('True label')\n",
    "    plt.xlabel('Predicted label')\n"
   ]
  },
  {
   "cell_type": "code",
   "execution_count": 76,
   "metadata": {
    "collapsed": false
   },
   "outputs": [
    {
     "name": "stdout",
     "output_type": "stream",
     "text": [
      "Confusion matrix, without normalization\n",
      "[[ 11 258 481 171  49  10   0   0   0   0]\n",
      " [  0   2 694 373  59   7   0   0   0   0]\n",
      " [  5  42 284 484 195  19   3   0   0   0]\n",
      " [  0   9 161 518 256  49  16   0   0   0]\n",
      " [  0   0   1  88 498 334  59   2   0   0]\n",
      " [  0   0  14 223 451 164  30   8   2   0]\n",
      " [  0   3  20 126 386 354  68   1   0   0]\n",
      " [  0   0   5  53 198 429 276  59   8   0]\n",
      " [  0   0   7  61 269 434 174  28   1   0]\n",
      " [  0   0   3  20  77 322 497  82   6   2]]\n"
     ]
    },
    {
     "data": {
      "text/plain": [
       "<matplotlib.figure.Figure at 0x1b384e11470>"
      ]
     },
     "metadata": {},
     "output_type": "display_data"
    },
    {
     "data": {
      "image/png": "[encoded data removed]",
      "text/plain": [
       "<matplotlib.figure.Figure at 0x1b384e11b70>"
      ]
     },
     "metadata": {},
     "output_type": "display_data"
    }
   ],
   "source": [
    "confusion = confusion_matrix(test_labels_m, result)\n",
    "plt.figure()\n",
    "plot_confusion_matrix(confusion, title='Confusion matrix, without normalization')"
   ]
  },
  {
   "cell_type": "markdown",
   "metadata": {},
   "source": [
    "#### 4.3.2 CIFAR 10 data  \n",
    "- Descetize"
   ]
  },
  {
   "cell_type": "code",
   "execution_count": 96,
   "metadata": {
    "collapsed": true
   },
   "outputs": [],
   "source": [
    "'''normalize the data so that the value of points is converted to range [0,9]'''\n",
    "\n",
    "result_c = descretize(pred_c)\n"
   ]
  },
  {
   "cell_type": "markdown",
   "metadata": {},
   "source": [
    "- Evaluate the accuracy"
   ]
  },
  {
   "cell_type": "code",
   "execution_count": 98,
   "metadata": {
    "collapsed": false
   },
   "outputs": [
    {
     "name": "stdout",
     "output_type": "stream",
     "text": [
      "accuracy: 0.10509999999999997\n"
     ]
    }
   ],
   "source": [
    "'''evaluate the model by accuracy'''\n",
    "error_c = 0\n",
    "for i in range(len(test_labels_CF)):\n",
    "    if result_c[i] != test_labels_CF[i]:\n",
    "        error_c += 1\n",
    "print(\"accuracy:\",1 - error_c/float(len(test_labels_CF)))    "
   ]
  },
  {
   "cell_type": "markdown",
   "metadata": {},
   "source": [
    "- Confusion matrix"
   ]
  },
  {
   "cell_type": "code",
   "execution_count": 99,
   "metadata": {
    "collapsed": false
   },
   "outputs": [
    {
     "name": "stdout",
     "output_type": "stream",
     "text": [
      "Confusion matrix, without normalization\n",
      "[[  3   9  56 489 395  39   9   0   0   0]\n",
      " [  5  11  88 399 392  85  18   1   0   1]\n",
      " [  0   6  65 467 394  61   5   1   0   1]\n",
      " [  0   6  63 456 417  50   5   3   0   0]\n",
      " [  0   9  58 439 450  40   2   2   0   0]\n",
      " [  1   4  57 477 408  48   4   0   1   0]\n",
      " [  0   2  65 397 433  85  14   4   0   0]\n",
      " [  1   4  71 346 466  93  17   2   0   0]\n",
      " [  0   6  37 371 492  89   4   1   0   0]\n",
      " [  2   7  45 304 478 142  16   3   1   2]]\n"
     ]
    },
    {
     "data": {
      "text/plain": [
       "<matplotlib.figure.Figure at 0x1b3853dbc50>"
      ]
     },
     "metadata": {},
     "output_type": "display_data"
    },
    {
     "data": {
      "image/png": "[encoded data removed]",
      "text/plain": [
       "<matplotlib.figure.Figure at 0x1b3853dbe10>"
      ]
     },
     "metadata": {},
     "output_type": "display_data"
    }
   ],
   "source": [
    "confusion = confusion_matrix(test_labels_CF, result_c)\n",
    "plt.figure()\n",
    "plot_confusion_matrix(confusion, title='Confusion matrix, without normalization')"
   ]
  },
  {
   "cell_type": "markdown",
   "metadata": {},
   "source": [
    "### 4.4 Discuss regression performance with respect to classification performance"
   ]
  },
  {
   "cell_type": "markdown",
   "metadata": {},
   "source": [
    "The result(acccuracy) we got above can be listed as below.  \n",
    "  \n",
    "**Naive Bayes Classifier:**\n",
    "```\n",
    "MNIST: 0.8438\n",
    "CIFAR 10: 0.296\n",
    "```\n",
    "**Bayesian Linear Regression:**\n",
    "```\n",
    "MNIST:  0.1009\n",
    "CIFAR 10: 0.1051\n",
    "```\n",
    "According to the accuracy, the Naive Bayes Classifier works better on these two data sets.  \n",
    "  \n",
    "The naive bayes classifier bases on applying Bayes' theorem with strong (naive) independence assumptions between the features. Given a training set, it builds the probabilistic model based on the frequencies of each data point. And it predicts the new value with the probability $P(C_j|{\\bf{x}})$. So the theory behind Naive bayes is to use frequency to predict probability. \n",
    "  \n",
    "When it comes to bayesian linear regression, first it assumes there is a linear relation between data **x** and the target **t**.  \n",
    "i.e. $\\bf{t = Xw}$. Here t is the target in [0,9], and **X** is the value of pixels in one single image.  \n",
    "However, this is a dummy assumption because the relation between target and the pixels is much more complex than a linear map. In this case, we see that the result of the linear regression is nearly the random output.\n"
   ]
  },
  {
   "cell_type": "markdown",
   "metadata": {},
   "source": [
    "### 4.4 Describe one limitation of using regression for this particular task\n",
    "As discussed above, the limitation of the regression on image data set is that the linear assumption is not sufficient to describe the real model, hence result in a low accuracy.  \n",
    "  \n",
    "Another limitation is that linear regression is sensitive to outliers. e.g. in the MNIST datase we observed an outlier with the value = -2948, which is far beyond the target range [0,9]. "
   ]
  }
 ],
 "metadata": {
  "kernelspec": {
   "display_name": "Python 3",
   "language": "python",
   "name": "python3"
  },
  "language_info": {
   "codemirror_mode": {
    "name": "ipython",
    "version": 3
   },
   "file_extension": ".py",
   "mimetype": "text/x-python",
   "name": "python",
   "nbconvert_exporter": "python",
   "pygments_lexer": "ipython3",
   "version": "3.6.0"
  }
 },
 "nbformat": 4,
 "nbformat_minor": 2
}
